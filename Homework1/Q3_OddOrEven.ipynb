{
 "cells": [
  {
   "cell_type": "markdown",
   "metadata": {},
   "source": [
    "Q3. Write a program that iterates from 1 to 20, printing each number and whether it's odd or even."
   ]
  },
  {
   "cell_type": "code",
   "execution_count": 4,
   "metadata": {},
   "outputs": [
    {
     "name": "stdout",
     "output_type": "stream",
     "text": [
      "1  Odd\n",
      "2  Even\n",
      "3  Odd\n",
      "4  Even\n",
      "5  Odd\n",
      "6  Even\n",
      "7  Odd\n",
      "8  Even\n",
      "9  Odd\n",
      "10  Even\n",
      "11  Odd\n",
      "12  Even\n",
      "13  Odd\n",
      "14  Even\n",
      "15  Odd\n",
      "16  Even\n",
      "17  Odd\n",
      "18  Even\n",
      "19  Odd\n",
      "20  Even\n"
     ]
    }
   ],
   "source": [
    "list = list(range(21))\n",
    "for i in list[1:]:\n",
    "    if( i%2 == 0):\n",
    "        print(i, \" Even\")\n",
    "    else:\n",
    "        print(i, \" Odd\")"
   ]
  }
 ],
 "metadata": {
  "kernelspec": {
   "display_name": "Python 3",
   "language": "python",
   "name": "python3"
  },
  "language_info": {
   "codemirror_mode": {
    "name": "ipython",
    "version": 3
   },
   "file_extension": ".py",
   "mimetype": "text/x-python",
   "name": "python",
   "nbconvert_exporter": "python",
   "pygments_lexer": "ipython3",
   "version": "3.12.3"
  }
 },
 "nbformat": 4,
 "nbformat_minor": 2
}
